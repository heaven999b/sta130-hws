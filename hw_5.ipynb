{
 "cells": [
  {
   "cell_type": "markdown",
   "id": "e7c58ab1",
   "metadata": {},
   "source": [
    "question1. The \"first pre-lecture video\" (above) describes hypothesis testing as addressing \"an idea that can be tested\", and the end of the video then discusses what our actual intended purpose in setting up a null hypothesis is. What is the key factor that makes the difference between ideas that can, and cannot be examined and tested statistically? What would you describe is the key \"criteria\" defining what a good null hypothesis is? And what is the difference between a null hypothesis and an alternative hypothesis in the context of hypothesis testing? Answer these questions with concise explanations in your own words"
   ]
  },
  {
   "cell_type": "markdown",
   "id": "7bc2dbed",
   "metadata": {},
   "source": [
    "A key factor that determines whether an idea can be tested statistically is whether it can be measured with data. If you can collect numerical data or outcomes that are measurable, then you can examine it statistically.\n",
    "\n",
    "Criteria for a Good Null Hypothesis:\n",
    "Clear: It should be simple and easy to understand.\n",
    "Testable: There should be a way to check whether it's true or false using data.\n",
    "Neutral: It typically states that there is no effect or difference between groups or variables.\n",
    "Falsifiable: It must be possible to prove it wrong if evidence suggests otherwise.\n",
    "\n",
    "Difference Between Null and Alternative Hypotheses:\n",
    "Null Hypothesis (H₀): This is the starting point. It says that there is no effect, difference, or relationship in what you are testing. For example, \"The new drug has no effect on blood pressure.\"\n",
    "Alternative Hypothesis (H₁): This is what you're testing for. It says there is an effect, difference, or relationship. For example, \"The new drug lowers blood pressure.\"\n",
    "In hypothesis testing, we start by assuming the null hypothesis is true. We then use the data to see if there's enough evidence to reject the null hypothesis in favor of the alternative hypothesis. If the data doesn't provide strong evidence, we stick with the null hypothesis"
   ]
  },
  {
   "cell_type": "markdown",
   "id": "378eb81d",
   "metadata": {},
   "source": [
    "link:https://chatgpt.com/share/6702aed8-b488-800c-a4f6-2689e3eef4d4\n",
    "\n",
    "Here's a summary of our chat:\n",
    "\n",
    "- We discussed the key factor that makes an idea testable statistically: **quantifiability** or whether the idea can be measured with data.\n",
    "- We outlined the **criteria for a good null hypothesis**, including that it should be clear, testable, neutral, and falsifiable.\n",
    "- We compared the **null hypothesis** (which assumes no effect or difference) with the **alternative hypothesis** (which suggests there is an effect or difference). In hypothesis testing, we start with the null hypothesis and use data to determine if there’s enough evidence to support the alternative.\n",
    "\n",
    "You also mentioned that you prefer explanations that are clear, straightforward, and similar to how professors explain concepts."
   ]
  },
  {
   "cell_type": "markdown",
   "id": "7818ff3f",
   "metadata": {},
   "source": [
    "question2. Towards the end of the \"first pre-lecture\" video (above) it is stated that, \"It is important to note that outcomes of tests refer to the population parameter, rather than the sample statistic! As such, the result that we get is for the population.\" In terms of the distinctions between the concepts of () , how would you describe what the sentence above means? Explain this concisely in your own words for a \"non-statsitical\" audience, defining the technical statistical terminology you use in your answer."
   ]
  },
  {
   "cell_type": "markdown",
   "id": "23114e59",
   "metadata": {},
   "source": [
    "Explanation:\n",
    "When conducting a statistical test, such as a hypothesis test, the goal is to draw conclusions about the population parameter (\n",
    "𝜇) based on the information from the sample. The sample statistic, such as \n",
    "𝑥ˉ, is used to estimate the population parameter, but it is important to note that the outcome of the test is a statement about the population mean (\n",
    "𝜇), not the sample mean (𝑥ˉ).\n",
    "\n",
    "In technical terms, statistical tests are designed to assess whether there is enough evidence to reject a null hypothesis (which often involves 𝜇0 )𝜇,𝑥 .\n",
    "\n",
    "Sample Statistic:\n",
    "\n",
    "𝑥𝑖 : These are individual data points from the sample. They represent the observed values of a variable from a subset of the population.\n",
    "𝑥ˉ: This is the sample mean, a statistic calculated by averaging all the individual sample data points (𝑥𝑖's). It serves as an estimate of the population mean but is specific to the sample.\n",
    " \n",
    "Population Parameter:\n",
    "\n",
    "𝜇: This represents the population mean, which is the true average value of a variable across the entire population. It’s typically unknown because we rarely have data for the entire population.\n",
    "𝜇0: This is the hypothesized value of the population mean used in hypothesis testing. It's a claim or assumption made about 𝜇, often referred to as the null hypothesis mean."
   ]
  },
  {
   "cell_type": "markdown",
   "id": "80b74818",
   "metadata": {},
   "source": [
    "link:https://chatgpt.com/share/6702b345-a828-800c-9570-ba2cce569434\n",
    "n this conversation, you asked me to explain the meaning of a sentence from a statistics lecture that states, \"It is important to note that outcomes of tests refer to the population parameter, rather than the sample statistic.\" I provided a simple explanation for a non-statistical audience, breaking down key terms such as \n",
    "𝑥𝑖\n",
    "(individual data points), \n",
    "𝑥ˉ(sample mean), \n",
    "𝜇 (population mean), and \n",
    "𝜇0(hypothesized population mean). I explained that statistical tests are designed to infer the population parameter \n",
    "𝜇\n",
    "μ based on sample data, rather than focusing solely on the sample statistics.\n",
    "\n",
    "Afterward, you asked me to rephrase the explanation using more technical statistical terminology. I highlighted that the sample mean \n",
    "𝑥 serves as an estimate of the population mean \n",
    "𝜇, and that statistical tests are intended to draw conclusions about \n",
    "𝜇 rather than the specific sample values. The goal of such tests is to make inferences about population parameters, not just the data observed in the sample."
   ]
  },
  {
   "cell_type": "markdown",
   "id": "33621d6e",
   "metadata": {},
   "source": [
    "question3. The second \"Pre-lecture\" video (above) explains that we \"imagine a world where the null hypothesis is true\" when calculating a p-value? Explain why this is in your own words in a way that makes the most sense to you."
   ]
  },
  {
   "cell_type": "markdown",
   "id": "5fbc9c90",
   "metadata": {},
   "source": [
    "When calculating a p-value, imagining a world where the null hypothesis is true is essential because we are trying to assess how likely our observed data would be if the null hypothesis were indeed correct. \n",
    "\n",
    "Here's how I think of it:\n",
    "\n",
    "- The null hypothesis represents a baseline assumption—often that there is no effect or no difference (e.g., the coin is fair, or there’s no association between two variables).\n",
    "  \n",
    "- When we calculate the p-value, we are asking: \"If this assumption of the null hypothesis being true holds, what is the probability of observing a test statistic as extreme, or more extreme, than what we have seen in our sample?\"\n",
    "\n",
    "- The sampling distribution of the test statistic under the null hypothesis describes what values we might expect the test statistic to take just by random chance, assuming the null is correct. This distribution gives us a reference point for deciding whether our observed data is unusual or consistent with random variation.\n",
    "\n",
    "- The p-value is then the area in this distribution that reflects how likely it is to observe data as extreme (or more extreme) than what was actually observed, under the assumption that the null hypothesis is true. If the p-value is very small, it suggests that our data is quite unusual under the null hypothesis, which might lead us to question or reject the null hypothesis.\n",
    "\n",
    "In essence, by imagining the null hypothesis to be true, we can evaluate how surprising or expected our data would be, which helps us make informed decisions about our hypothesis."
   ]
  },
  {
   "cell_type": "markdown",
   "id": "831b6ad1",
   "metadata": {},
   "source": [
    "question4. The second \"Pre-lecture\" video (above) describes suggest that a smaller p-value makes the null hypothesis look more ridiculous. Explain why this is in your own words in a way that makes the most sense to you, clarifying the meaning of any technical statistical terminology you use in your answer."
   ]
  },
  {
   "cell_type": "markdown",
   "id": "1422aa0d",
   "metadata": {},
   "source": [
    "When we obtain a small p-value, it indicates that if the null hypothesis were true, observing such extreme results would be almost impossible. In this case, continuing to believe in the null hypothesis becomes unreasonable or even \"ridiculous.\" Therefore, we are inclined to reject the null hypothesis and accept the alternative hypothesis as more likely.\n",
    "\n",
    "Let’s consider a specific example:\n",
    "\n",
    "Suppose we want to test whether a coin is fair (null hypothesis: the coin is fair, i.e., the probability of heads and tails is 50% each). If we flip the coin 100 times and observe 90 heads, this result is extremely far from what we would expect if the coin were truly fair. The probability of observing 90 heads out of 100 flips (i.e., the p-value) would be very small. Therefore, this small p-value makes us doubt the fairness of the coin, leading us to believe that the null hypothesis (the coin is fair) is no longer reasonable and might even seem \"ridiculous.\"\n",
    "\n",
    "Relation Between the Observed Test Statistic and the Sampling Distribution:\n",
    "Once we calculate the observed test statistic from the sample data, we compare it to the sampling distribution of the test statistic\n",
    "\n",
    "Position on the Sampling Distribution: The position of the observed test statistic within the sampling distribution tells us how extreme or typical the observed result is. If the observed test statistic is close to the center of the sampling distribution, this suggests that the result is consistent with the null hypothesis."
   ]
  },
  {
   "cell_type": "markdown",
   "id": "239db35e",
   "metadata": {},
   "source": [
    "question5. Güntürkün (2003) recorded how kissing couples tilt their heads. 80 out of 124 couples, or 64.5% tilted their heads to the right. Simulate a p-value using a \"50/50 coin-flipping\" model for the assumption of the null hypothesis \n",
    " that the population of humans don't have left or right head tilt tendencies when kissing, and use the table below to determine the level of evidence we have against \n",
    "."
   ]
  },
  {
   "cell_type": "code",
   "execution_count": 2,
   "id": "d34a90b7",
   "metadata": {},
   "outputs": [
    {
     "name": "stdout",
     "output_type": "stream",
     "text": [
      "{0.001}\n"
     ]
    }
   ],
   "source": [
    "import numpy as np\n",
    "\n",
    "num_simulations = 10000\n",
    "\n",
    "num_couples = 124\n",
    "\n",
    "\n",
    "observed_right_tilts = 80\n",
    "\n",
    "\n",
    "simulated_right_tilts = np.random.binomial(n=num_couples, p=0.5, size=num_simulations)\n",
    "\n",
    "\n",
    "p_value = np.mean(simulated_right_tilts >= observed_right_tilts)\n",
    "\n",
    "print({p_value})\n"
   ]
  },
  {
   "cell_type": "markdown",
   "id": "fba69224",
   "metadata": {},
   "source": [
    "xi is one of the couples who kiss\n",
    "x- is the average of all the samples who kiss\n",
    "miu is the population mean of the couples who kiss \n",
    "miu0is the null hypothesis mean of the couples who kiss\n",
    "as p is 0.001,we have very strong evidence against the null hypothesis"
   ]
  },
  {
   "cell_type": "markdown",
   "id": "19d1d9f7",
   "metadata": {},
   "source": [
    "question6. Can a smaller p-value definitively prove that the null hypothesis is false? Is it possible to definitively prove that Fido (from the \"second pre-lecture video\") is innocent using a p-value? Is it possible to difinitively prove that Fido is guilty using a p-value? How low or high does a p-value have to be to definitely prove one or the other? Explain this concisely in your own words."
   ]
  },
  {
   "cell_type": "markdown",
   "id": "1d20b3fa",
   "metadata": {},
   "source": [
    "A smaller p-value does not definitively prove that the null hypothesis is false. It simply provides evidence against the null hypothesis, suggesting that the observed data is unlikely under the assumption that the null is true. In the case of Fido, a p-value cannot definitively prove innocence or guilt—it can only indicate how much the observed data contradicts the null hypothesis (e.g\n",
    "\n",
    "Hypothesis testing always leaves room for error (e.g., Type I or Type II errors). A p-value below a conventional threshold (like 0.05) indicates strong evidence against the null, but it doesn't provide absolute proof. Similarly, a high p-value indicates that the data is consistent with the null hypothesis, but it doesn't definitively prove the null hypothesis to be true"
   ]
  },
  {
   "cell_type": "markdown",
   "id": "85a9f28f",
   "metadata": {},
   "source": [
    "question7. In the second half of the \"first pre-lecture video\" the concept of a \"one sided\" (or \"one tailed\") test is introduced in contrast to a \"two sided\" (or \"two tailed\") test. Work with a ChatBot to adjust the code from \"Demo II of the Week 5 TUT\" (which revisits the \"Vaccine Data Analysis Assignment\" from Week 04 HW \"Question 8\") in order to compute a p-value for a \"one sided\" (or \"one tailed\") hypothesis test rather than the \"two sided\" (or \"two tailed\") version it provides. Describe (perhaps with the help of your ChatBot) what changed in the code; how this changes the interpretation of the hypothesis test; and whether or not we should indeed expect the p-value to be smaller in the \"one tailed\" versus \"two tailed\" analysis."
   ]
  },
  {
   "cell_type": "code",
   "execution_count": 1,
   "id": "7e554e12",
   "metadata": {},
   "outputs": [
    {
     "name": "stdout",
     "output_type": "stream",
     "text": [
      "t统计量: 2.5900615612703937\n",
      "单尾p值: 0.01460526190774628\n"
     ]
    }
   ],
   "source": [
    "import numpy as np\n",
    "from scipy import stats\n",
    "\n",
    "# 数据\n",
    "initial_health_scores = np.array([84, 78, 83, 81, 81, 80, 79, 85, 76, 83])\n",
    "final_health_scores = np.array([86, 86, 80, 86, 84, 86, 86, 82, 83, 84])\n",
    "\n",
    "# 计算配对样本t检验的差异\n",
    "differences = final_health_scores - initial_health_scores\n",
    "\n",
    "# 进行配对样本t检验\n",
    "t_statistic, p_value_two_tailed = stats.ttest_rel(final_health_scores, initial_health_scores)\n",
    "\n",
    "# 计算单尾的p值（我们假设是正向变化，所以只取一侧）\n",
    "p_value_one_tailed = p_value_two_tailed / 2 if t_statistic > 0 else 1 - p_value_two_tailed / 2\n",
    "\n",
    "# 输出结果\n",
    "print(\"t统计量:\", t_statistic)\n",
    "print(\"单尾p值:\", p_value_one_tailed)\n"
   ]
  },
  {
   "cell_type": "code",
   "execution_count": 2,
   "id": "5e3effb6",
   "metadata": {},
   "outputs": [
    {
     "name": "stdout",
     "output_type": "stream",
     "text": [
      "t统计量: 2.5900615612703937\n",
      "双尾p值: 0.02921052381549256\n"
     ]
    }
   ],
   "source": [
    "import numpy as np\n",
    "from scipy import stats\n",
    "\n",
    "# 数据\n",
    "initial_health_scores = np.array([84, 78, 83, 81, 81, 80, 79, 85, 76, 83])\n",
    "final_health_scores = np.array([86, 86, 80, 86, 84, 86, 86, 82, 83, 84])\n",
    "\n",
    "# 进行配对样本t检验\n",
    "t_statistic, p_value_two_tailed = stats.ttest_rel(final_health_scores, initial_health_scores)\n",
    "\n",
    "# 输出结果\n",
    "print(\"t统计量:\", t_statistic)\n",
    "print(\"双尾p值:\", p_value_two_tailed)\n"
   ]
  },
  {
   "cell_type": "markdown",
   "id": "1e84e759",
   "metadata": {},
   "source": [
    " p-value is smaller in the \"one tailed\" versus \"two tailed\" analysis"
   ]
  },
  {
   "cell_type": "markdown",
   "id": "4be9b1d1",
   "metadata": {},
   "source": [
    "8. Complete the following assignment."
   ]
  },
  {
   "cell_type": "markdown",
   "id": "9d526576",
   "metadata": {},
   "source": [
    "1、problem introduction：\n",
    "The relationship between Fisher’s original tea experiment and the STA130 experiment is based on the similar goal of determining whether participants can correctly identify the order in which tea or milk was poured, or if they are simply guessing. Both experiments are structured as hypothesis tests, where the null hypothesis assumes that participants are guessing, and the alternative hypothesis tests if participants have a genuine ability to discern the order.\n",
    "while\n",
    "while there is a big difference on sample size\n",
    "Fisher’s Original Experiment: The sample size was very small, with only 8 cups of tea and a single participant (Dr. Bristol). With such a small sample, the results are more susceptible to random variation, and each correct or incorrect guess has a significant impact on the overall outcome.\n",
    "STA130 Experiment: The sample size is much larger, with 80 students each making a single judgment. Larger sample sizes provide more stable and reliable results, reducing the effect of individual guesses on the overall conclusion. It also allows for more precise statistical inference.\n",
    "\n",
    "Null Hypothesis (H₀)\n",
    "Formal Explanation (Precise Language):\n",
    "\n",
    "\n",
    "The null hypothesis states that the true proportion 𝑝 of individuals in the population who can correctly identify whether milk or tea was poured first is equal to 0.5 (or 50%). This means that participants are simply guessing, and their success rate is no better than chance.\n",
    "\n",
    "Informal Explanation (Everyday Language): The null hypothesis suggests that people are just guessing whether the milk or tea was poured first. If they can’t really tell, they would get it right about half the time, just like flipping a coin.\n",
    "\n",
    "Alternative Hypothesis (H₁)\n",
    "Formal Explanation (Precise Language):\n",
    "\n",
    "The alternative hypothesis posits that the true proportion 𝑝 of individuals in the population who can correctly identify whether milk or tea was poured first is greater than 0.5. This implies that participants are better than random guessing at identifying the correct order, suggesting some ability to distinguish between the two methods.\n",
    "\n",
    "Informal Explanation (Everyday Language): The alternative hypothesis suggests that people can actually tell whether the milk or tea was poured first. They’re getting it right more than half the time, which means they’re doing better than just guessing randomly.\n",
    "\n",
    "\n",
    "population：all people who could potentially taste tea and identify whether milk or tea was poured first.\n",
    "\n",
    "sample： 80 STA130 students who were randomly selected to participate. Each student was given one cup of tea and asked to determine whether milk or tea was poured first. "
   ]
  },
  {
   "cell_type": "code",
   "execution_count": 5,
   "id": "3fbbb16d",
   "metadata": {},
   "outputs": [
    {
     "data": {
      "image/png": "[encoded data removed]",
      "text/plain": [
       "<Figure size 640x480 with 1 Axes>"
      ]
     },
     "metadata": {},
     "output_type": "display_data"
    }
   ],
   "source": [
    "import numpy as np\n",
    "import matplotlib.pyplot as plt\n",
    "\n",
    "# Set the random seed for reproducibility\n",
    "np.random.seed(40)\n",
    "\n",
    "# Parameters\n",
    "n_students = 80      # Sample size (number of students in the experiment)\n",
    "p_null = 0.5         # Null hypothesis proportion (random guessing)\n",
    "n_simulations = 2000  # Number of simulations\n",
    "\n",
    "# Generate sampling distribution of sample proportions\n",
    "sample_proportions = np.random.binomial(n_students, p_null, size=n_simulations) / n_students\n",
    "\n",
    "# Plot the sampling distribution\n",
    "plt.hist(sample_proportions, bins=30, edgecolor='k', alpha=0.7)\n",
    "plt.title('Sampling Distribution of the Sample Proportion (Under H₀: p = 0.5)')\n",
    "plt.xlabel('Sample Proportion')\n",
    "plt.ylabel('Frequency')\n",
    "plt.axvline(x=0.6125, color='red', linestyle='--', label='Observed Proportion (0.6125)')\n",
    "plt.legend()\n",
    "plt.show()\n"
   ]
  },
  {
   "cell_type": "code",
   "execution_count": 6,
   "id": "17d2c4ca",
   "metadata": {},
   "outputs": [
    {
     "name": "stdout",
     "output_type": "stream",
     "text": [
      "Observed Proportion: 0.6125\n",
      "Z-statistic: 2.0125\n",
      "P-value: 0.0221\n"
     ]
    }
   ],
   "source": [
    "import numpy as np\n",
    "from scipy import stats\n",
    "\n",
    "# Parameters\n",
    "n_students = 80        # Sample size\n",
    "p_null = 0.5           # Null hypothesis proportion (H₀: p = 0.5)\n",
    "observed_proportion = 49 / 80  # Observed proportion (49 students correct out of 80)\n",
    "\n",
    "# Calculate the z-statistic\n",
    "standard_error = np.sqrt(p_null * (1 - p_null) / n_students)\n",
    "z_stat = (observed_proportion - p_null) / standard_error\n",
    "\n",
    "# Calculate the one-tailed p-value from the z-statistic\n",
    "p_value = 1 - stats.norm.cdf(z_stat)\n",
    "\n",
    "# Print the results\n",
    "print(f\"Observed Proportion: {observed_proportion}\")\n",
    "print(f\"Z-statistic: {z_stat:.4f}\")\n",
    "print(f\"P-value: {p_value:.4f}\")\n"
   ]
  },
  {
   "cell_type": "code",
   "execution_count": 8,
   "id": "3826abc1",
   "metadata": {},
   "outputs": [
    {
     "name": "stdout",
     "output_type": "stream",
     "text": [
      "Observed Proportion: 0.6125\n",
      "Z-Critical Value: 1.9600\n",
      "Standard Error: 0.0545\n",
      "Margin of Error: 0.1068\n",
      "95% Confidence Interval: (0.5057, 0.7193)\n"
     ]
    }
   ],
   "source": [
    "import numpy as np\n",
    "from scipy import stats\n",
    "\n",
    "# Parameters\n",
    "n_students = 80              # Sample size\n",
    "observed_correct = 49        # Number of correct identifications\n",
    "observed_proportion = observed_correct / n_students  # Observed proportion\n",
    "\n",
    "# Confidence level (e.g., 95% confidence interval)\n",
    "confidence_level = 0.95\n",
    "z_critical = stats.norm.ppf(1 - (1 - confidence_level) / 2)  # Z-critical value for 95% CI\n",
    "\n",
    "# Standard error for the proportion\n",
    "standard_error = np.sqrt(observed_proportion * (1 - observed_proportion) / n_students)\n",
    "\n",
    "# Margin of error\n",
    "margin_of_error = z_critical * standard_error\n",
    "\n",
    "# Confidence interval\n",
    "confidence_interval = (observed_proportion - margin_of_error, observed_proportion + margin_of_error)\n",
    "\n",
    "# Print the results\n",
    "print(f\"Observed Proportion: {observed_proportion:.4f}\")\n",
    "print(f\"Z-Critical Value: {z_critical:.4f}\")\n",
    "print(f\"Standard Error: {standard_error:.4f}\")\n",
    "print(f\"Margin of Error: {margin_of_error:.4f}\")\n",
    "print(f\"95% Confidence Interval: ({confidence_interval[0]:.4f}, {confidence_interval[1]:.4f})\")\n"
   ]
  },
  {
   "cell_type": "markdown",
   "id": "fe4d0a15",
   "metadata": {},
   "source": [
    "The rejection of the null hypothesis is based on both the p-value andconfidence interval,\n",
    "\n",
    "1. P-value Explanation:\n",
    "The p-value we calculated is 0.0222, whichless than the significance level (α=0.05.A p-value of 0.0222 means that, assuming the null hypothesis is true (that the students are just guessing and have a 50% chance of being correct), the probability of observing a result as extreme as 49 correct identifications out of 80 students is only 2.22%. This is a very low probability, which provides strong evidence against the null\n",
    "Since the p-value is lower than 0.05, we conclude that the observed result is statistically significant and unlikely to have occurred by random guessing alone. Therefore, we reject the null hypothesis.\n",
    "2. Confidence Interval Explanation:\n",
    "The 95% confidence interval for the true proportion of students who can correctly identify whether milk or tea was poured first is calculated to be (0.5079, 0.7171).\n",
    "This interval tells us that, based on the sample data, we are 95% confident that the true proportion of correct identifications lies between 50.79% and 7193%.\n",
    "Why this matters:above 0.5, meaning\n",
    "Since the confidence interval excludes 0.5, it supports our decision to reject the null"
   ]
  }
 ],
 "metadata": {
  "kernelspec": {
   "display_name": "Python 3 (ipykernel)",
   "language": "python",
   "name": "python3"
  },
  "language_info": {
   "codemirror_mode": {
    "name": "ipython",
    "version": 3
   },
   "file_extension": ".py",
   "mimetype": "text/x-python",
   "name": "python",
   "nbconvert_exporter": "python",
   "pygments_lexer": "ipython3",
   "version": "3.11.6"
  }
 },
 "nbformat": 4,
 "nbformat_minor": 5
}
